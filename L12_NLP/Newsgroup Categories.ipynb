{
 "cells": [
  {
   "cell_type": "code",
   "execution_count": 1,
   "id": "ba99e5c3",
   "metadata": {
    "ExecuteTime": {
     "end_time": "2024-03-22T08:39:36.441534Z",
     "start_time": "2024-03-22T08:39:36.396414100Z"
    }
   },
   "outputs": [],
   "source": [
    "categories = ['alt.atheism']#, 'soc.religion.christian','comp.graphics', 'sci.med']\n",
    "import ssl\n",
    "ssl._create_default_https_context = ssl._create_unverified_context"
   ]
  },
  {
   "cell_type": "code",
   "execution_count": 2,
   "id": "f9fe4d89",
   "metadata": {
    "ExecuteTime": {
     "end_time": "2024-03-22T08:39:36.541373600Z",
     "start_time": "2024-03-22T08:39:36.437143600Z"
    }
   },
   "outputs": [],
   "source": [
    "# Load the list of files matching those categories as follows:"
   ]
  },
  {
   "cell_type": "code",
   "execution_count": 3,
   "id": "a096f487",
   "metadata": {
    "ExecuteTime": {
     "end_time": "2024-03-22T08:41:09.688290300Z",
     "start_time": "2024-03-22T08:39:36.505852500Z"
    }
   },
   "outputs": [
    {
     "ename": "KeyboardInterrupt",
     "evalue": "",
     "output_type": "error",
     "traceback": [
      "\u001B[1;31m---------------------------------------------------------------------------\u001B[0m",
      "\u001B[1;31mKeyboardInterrupt\u001B[0m                         Traceback (most recent call last)",
      "Cell \u001B[1;32mIn[3], line 2\u001B[0m\n\u001B[0;32m      1\u001B[0m \u001B[38;5;28;01mfrom\u001B[39;00m \u001B[38;5;21;01msklearn\u001B[39;00m\u001B[38;5;21;01m.\u001B[39;00m\u001B[38;5;21;01mdatasets\u001B[39;00m \u001B[38;5;28;01mimport\u001B[39;00m fetch_20newsgroups\n\u001B[1;32m----> 2\u001B[0m twenty_train \u001B[38;5;241m=\u001B[39m \u001B[43mfetch_20newsgroups\u001B[49m\u001B[43m(\u001B[49m\u001B[43msubset\u001B[49m\u001B[38;5;241;43m=\u001B[39;49m\u001B[38;5;124;43m'\u001B[39;49m\u001B[38;5;124;43mtrain\u001B[39;49m\u001B[38;5;124;43m'\u001B[39;49m\u001B[43m,\u001B[49m\u001B[43m \u001B[49m\u001B[43mcategories\u001B[49m\u001B[38;5;241;43m=\u001B[39;49m\u001B[43mcategories\u001B[49m\u001B[43m,\u001B[49m\u001B[43m \u001B[49m\u001B[43mshuffle\u001B[49m\u001B[38;5;241;43m=\u001B[39;49m\u001B[38;5;28;43;01mTrue\u001B[39;49;00m\u001B[43m,\u001B[49m\u001B[43m \u001B[49m\u001B[43mrandom_state\u001B[49m\u001B[38;5;241;43m=\u001B[39;49m\u001B[38;5;241;43m42\u001B[39;49m\u001B[43m)\u001B[49m\n",
      "File \u001B[1;32m~\\PycharmProjects\\ML-DMU-22-SEM4\\.venv\\Lib\\site-packages\\sklearn\\utils\\_param_validation.py:213\u001B[0m, in \u001B[0;36mvalidate_params.<locals>.decorator.<locals>.wrapper\u001B[1;34m(*args, **kwargs)\u001B[0m\n\u001B[0;32m    207\u001B[0m \u001B[38;5;28;01mtry\u001B[39;00m:\n\u001B[0;32m    208\u001B[0m     \u001B[38;5;28;01mwith\u001B[39;00m config_context(\n\u001B[0;32m    209\u001B[0m         skip_parameter_validation\u001B[38;5;241m=\u001B[39m(\n\u001B[0;32m    210\u001B[0m             prefer_skip_nested_validation \u001B[38;5;129;01mor\u001B[39;00m global_skip_validation\n\u001B[0;32m    211\u001B[0m         )\n\u001B[0;32m    212\u001B[0m     ):\n\u001B[1;32m--> 213\u001B[0m         \u001B[38;5;28;01mreturn\u001B[39;00m \u001B[43mfunc\u001B[49m\u001B[43m(\u001B[49m\u001B[38;5;241;43m*\u001B[39;49m\u001B[43margs\u001B[49m\u001B[43m,\u001B[49m\u001B[43m \u001B[49m\u001B[38;5;241;43m*\u001B[39;49m\u001B[38;5;241;43m*\u001B[39;49m\u001B[43mkwargs\u001B[49m\u001B[43m)\u001B[49m\n\u001B[0;32m    214\u001B[0m \u001B[38;5;28;01mexcept\u001B[39;00m InvalidParameterError \u001B[38;5;28;01mas\u001B[39;00m e:\n\u001B[0;32m    215\u001B[0m     \u001B[38;5;66;03m# When the function is just a wrapper around an estimator, we allow\u001B[39;00m\n\u001B[0;32m    216\u001B[0m     \u001B[38;5;66;03m# the function to delegate validation to the estimator, but we replace\u001B[39;00m\n\u001B[0;32m    217\u001B[0m     \u001B[38;5;66;03m# the name of the estimator by the name of the function in the error\u001B[39;00m\n\u001B[0;32m    218\u001B[0m     \u001B[38;5;66;03m# message to avoid confusion.\u001B[39;00m\n\u001B[0;32m    219\u001B[0m     msg \u001B[38;5;241m=\u001B[39m re\u001B[38;5;241m.\u001B[39msub(\n\u001B[0;32m    220\u001B[0m         \u001B[38;5;124mr\u001B[39m\u001B[38;5;124m\"\u001B[39m\u001B[38;5;124mparameter of \u001B[39m\u001B[38;5;124m\\\u001B[39m\u001B[38;5;124mw+ must be\u001B[39m\u001B[38;5;124m\"\u001B[39m,\n\u001B[0;32m    221\u001B[0m         \u001B[38;5;124mf\u001B[39m\u001B[38;5;124m\"\u001B[39m\u001B[38;5;124mparameter of \u001B[39m\u001B[38;5;132;01m{\u001B[39;00mfunc\u001B[38;5;241m.\u001B[39m\u001B[38;5;18m__qualname__\u001B[39m\u001B[38;5;132;01m}\u001B[39;00m\u001B[38;5;124m must be\u001B[39m\u001B[38;5;124m\"\u001B[39m,\n\u001B[0;32m    222\u001B[0m         \u001B[38;5;28mstr\u001B[39m(e),\n\u001B[0;32m    223\u001B[0m     )\n",
      "File \u001B[1;32m~\\PycharmProjects\\ML-DMU-22-SEM4\\.venv\\Lib\\site-packages\\sklearn\\datasets\\_twenty_newsgroups.py:286\u001B[0m, in \u001B[0;36mfetch_20newsgroups\u001B[1;34m(data_home, subset, categories, shuffle, random_state, remove, download_if_missing, return_X_y)\u001B[0m\n\u001B[0;32m    284\u001B[0m \u001B[38;5;28;01mif\u001B[39;00m download_if_missing:\n\u001B[0;32m    285\u001B[0m     logger\u001B[38;5;241m.\u001B[39minfo(\u001B[38;5;124m\"\u001B[39m\u001B[38;5;124mDownloading 20news dataset. This may take a few minutes.\u001B[39m\u001B[38;5;124m\"\u001B[39m)\n\u001B[1;32m--> 286\u001B[0m     cache \u001B[38;5;241m=\u001B[39m \u001B[43m_download_20newsgroups\u001B[49m\u001B[43m(\u001B[49m\n\u001B[0;32m    287\u001B[0m \u001B[43m        \u001B[49m\u001B[43mtarget_dir\u001B[49m\u001B[38;5;241;43m=\u001B[39;49m\u001B[43mtwenty_home\u001B[49m\u001B[43m,\u001B[49m\u001B[43m \u001B[49m\u001B[43mcache_path\u001B[49m\u001B[38;5;241;43m=\u001B[39;49m\u001B[43mcache_path\u001B[49m\n\u001B[0;32m    288\u001B[0m \u001B[43m    \u001B[49m\u001B[43m)\u001B[49m\n\u001B[0;32m    289\u001B[0m \u001B[38;5;28;01melse\u001B[39;00m:\n\u001B[0;32m    290\u001B[0m     \u001B[38;5;28;01mraise\u001B[39;00m \u001B[38;5;167;01mOSError\u001B[39;00m(\u001B[38;5;124m\"\u001B[39m\u001B[38;5;124m20Newsgroups dataset not found\u001B[39m\u001B[38;5;124m\"\u001B[39m)\n",
      "File \u001B[1;32m~\\PycharmProjects\\ML-DMU-22-SEM4\\.venv\\Lib\\site-packages\\sklearn\\datasets\\_twenty_newsgroups.py:86\u001B[0m, in \u001B[0;36m_download_20newsgroups\u001B[1;34m(target_dir, cache_path)\u001B[0m\n\u001B[0;32m     82\u001B[0m     os\u001B[38;5;241m.\u001B[39mremove(archive_path)\n\u001B[0;32m     84\u001B[0m \u001B[38;5;66;03m# Store a zipped pickle\u001B[39;00m\n\u001B[0;32m     85\u001B[0m cache \u001B[38;5;241m=\u001B[39m \u001B[38;5;28mdict\u001B[39m(\n\u001B[1;32m---> 86\u001B[0m     train\u001B[38;5;241m=\u001B[39m\u001B[43mload_files\u001B[49m\u001B[43m(\u001B[49m\u001B[43mtrain_path\u001B[49m\u001B[43m,\u001B[49m\u001B[43m \u001B[49m\u001B[43mencoding\u001B[49m\u001B[38;5;241;43m=\u001B[39;49m\u001B[38;5;124;43m\"\u001B[39;49m\u001B[38;5;124;43mlatin1\u001B[39;49m\u001B[38;5;124;43m\"\u001B[39;49m\u001B[43m)\u001B[49m,\n\u001B[0;32m     87\u001B[0m     test\u001B[38;5;241m=\u001B[39mload_files(test_path, encoding\u001B[38;5;241m=\u001B[39m\u001B[38;5;124m\"\u001B[39m\u001B[38;5;124mlatin1\u001B[39m\u001B[38;5;124m\"\u001B[39m),\n\u001B[0;32m     88\u001B[0m )\n\u001B[0;32m     89\u001B[0m compressed_content \u001B[38;5;241m=\u001B[39m codecs\u001B[38;5;241m.\u001B[39mencode(pickle\u001B[38;5;241m.\u001B[39mdumps(cache), \u001B[38;5;124m\"\u001B[39m\u001B[38;5;124mzlib_codec\u001B[39m\u001B[38;5;124m\"\u001B[39m)\n\u001B[0;32m     90\u001B[0m \u001B[38;5;28;01mwith\u001B[39;00m \u001B[38;5;28mopen\u001B[39m(cache_path, \u001B[38;5;124m\"\u001B[39m\u001B[38;5;124mwb\u001B[39m\u001B[38;5;124m\"\u001B[39m) \u001B[38;5;28;01mas\u001B[39;00m f:\n",
      "File \u001B[1;32m~\\PycharmProjects\\ML-DMU-22-SEM4\\.venv\\Lib\\site-packages\\sklearn\\utils\\_param_validation.py:186\u001B[0m, in \u001B[0;36mvalidate_params.<locals>.decorator.<locals>.wrapper\u001B[1;34m(*args, **kwargs)\u001B[0m\n\u001B[0;32m    184\u001B[0m global_skip_validation \u001B[38;5;241m=\u001B[39m get_config()[\u001B[38;5;124m\"\u001B[39m\u001B[38;5;124mskip_parameter_validation\u001B[39m\u001B[38;5;124m\"\u001B[39m]\n\u001B[0;32m    185\u001B[0m \u001B[38;5;28;01mif\u001B[39;00m global_skip_validation:\n\u001B[1;32m--> 186\u001B[0m     \u001B[38;5;28;01mreturn\u001B[39;00m \u001B[43mfunc\u001B[49m\u001B[43m(\u001B[49m\u001B[38;5;241;43m*\u001B[39;49m\u001B[43margs\u001B[49m\u001B[43m,\u001B[49m\u001B[43m \u001B[49m\u001B[38;5;241;43m*\u001B[39;49m\u001B[38;5;241;43m*\u001B[39;49m\u001B[43mkwargs\u001B[49m\u001B[43m)\u001B[49m\n\u001B[0;32m    188\u001B[0m func_sig \u001B[38;5;241m=\u001B[39m signature(func)\n\u001B[0;32m    190\u001B[0m \u001B[38;5;66;03m# Map *args/**kwargs to the function signature\u001B[39;00m\n",
      "File \u001B[1;32m~\\PycharmProjects\\ML-DMU-22-SEM4\\.venv\\Lib\\site-packages\\sklearn\\datasets\\_base.py:286\u001B[0m, in \u001B[0;36mload_files\u001B[1;34m(container_path, description, categories, load_content, shuffle, encoding, decode_error, random_state, allowed_extensions)\u001B[0m\n\u001B[0;32m    284\u001B[0m data \u001B[38;5;241m=\u001B[39m []\n\u001B[0;32m    285\u001B[0m \u001B[38;5;28;01mfor\u001B[39;00m filename \u001B[38;5;129;01min\u001B[39;00m filenames:\n\u001B[1;32m--> 286\u001B[0m     data\u001B[38;5;241m.\u001B[39mappend(\u001B[43mPath\u001B[49m\u001B[43m(\u001B[49m\u001B[43mfilename\u001B[49m\u001B[43m)\u001B[49m\u001B[38;5;241;43m.\u001B[39;49m\u001B[43mread_bytes\u001B[49m\u001B[43m(\u001B[49m\u001B[43m)\u001B[49m)\n\u001B[0;32m    287\u001B[0m \u001B[38;5;28;01mif\u001B[39;00m encoding \u001B[38;5;129;01mis\u001B[39;00m \u001B[38;5;129;01mnot\u001B[39;00m \u001B[38;5;28;01mNone\u001B[39;00m:\n\u001B[0;32m    288\u001B[0m     data \u001B[38;5;241m=\u001B[39m [d\u001B[38;5;241m.\u001B[39mdecode(encoding, decode_error) \u001B[38;5;28;01mfor\u001B[39;00m d \u001B[38;5;129;01min\u001B[39;00m data]\n",
      "File \u001B[1;32m~\\AppData\\Local\\Programs\\Python\\Python312\\Lib\\pathlib.py:1019\u001B[0m, in \u001B[0;36mPath.read_bytes\u001B[1;34m(self)\u001B[0m\n\u001B[0;32m   1015\u001B[0m \u001B[38;5;28;01mdef\u001B[39;00m \u001B[38;5;21mread_bytes\u001B[39m(\u001B[38;5;28mself\u001B[39m):\n\u001B[0;32m   1016\u001B[0m \u001B[38;5;250m    \u001B[39m\u001B[38;5;124;03m\"\"\"\u001B[39;00m\n\u001B[0;32m   1017\u001B[0m \u001B[38;5;124;03m    Open the file in bytes mode, read it, and close the file.\u001B[39;00m\n\u001B[0;32m   1018\u001B[0m \u001B[38;5;124;03m    \"\"\"\u001B[39;00m\n\u001B[1;32m-> 1019\u001B[0m     \u001B[38;5;28;01mwith\u001B[39;00m \u001B[38;5;28;43mself\u001B[39;49m\u001B[38;5;241;43m.\u001B[39;49m\u001B[43mopen\u001B[49m\u001B[43m(\u001B[49m\u001B[43mmode\u001B[49m\u001B[38;5;241;43m=\u001B[39;49m\u001B[38;5;124;43m'\u001B[39;49m\u001B[38;5;124;43mrb\u001B[39;49m\u001B[38;5;124;43m'\u001B[39;49m\u001B[43m)\u001B[49m \u001B[38;5;28;01mas\u001B[39;00m f:\n\u001B[0;32m   1020\u001B[0m         \u001B[38;5;28;01mreturn\u001B[39;00m f\u001B[38;5;241m.\u001B[39mread()\n",
      "File \u001B[1;32m~\\AppData\\Local\\Programs\\Python\\Python312\\Lib\\pathlib.py:1013\u001B[0m, in \u001B[0;36mPath.open\u001B[1;34m(self, mode, buffering, encoding, errors, newline)\u001B[0m\n\u001B[0;32m   1011\u001B[0m \u001B[38;5;28;01mif\u001B[39;00m \u001B[38;5;124m\"\u001B[39m\u001B[38;5;124mb\u001B[39m\u001B[38;5;124m\"\u001B[39m \u001B[38;5;129;01mnot\u001B[39;00m \u001B[38;5;129;01min\u001B[39;00m mode:\n\u001B[0;32m   1012\u001B[0m     encoding \u001B[38;5;241m=\u001B[39m io\u001B[38;5;241m.\u001B[39mtext_encoding(encoding)\n\u001B[1;32m-> 1013\u001B[0m \u001B[38;5;28;01mreturn\u001B[39;00m \u001B[43mio\u001B[49m\u001B[38;5;241;43m.\u001B[39;49m\u001B[43mopen\u001B[49m\u001B[43m(\u001B[49m\u001B[38;5;28;43mself\u001B[39;49m\u001B[43m,\u001B[49m\u001B[43m \u001B[49m\u001B[43mmode\u001B[49m\u001B[43m,\u001B[49m\u001B[43m \u001B[49m\u001B[43mbuffering\u001B[49m\u001B[43m,\u001B[49m\u001B[43m \u001B[49m\u001B[43mencoding\u001B[49m\u001B[43m,\u001B[49m\u001B[43m \u001B[49m\u001B[43merrors\u001B[49m\u001B[43m,\u001B[49m\u001B[43m \u001B[49m\u001B[43mnewline\u001B[49m\u001B[43m)\u001B[49m\n",
      "\u001B[1;31mKeyboardInterrupt\u001B[0m: "
     ]
    }
   ],
   "source": [
    "from sklearn.datasets import fetch_20newsgroups\n",
    "twenty_train = fetch_20newsgroups(subset='train', categories=categories, shuffle=True, random_state=42)"
   ]
  },
  {
   "cell_type": "code",
   "execution_count": null,
   "id": "95b1b89c",
   "metadata": {
    "ExecuteTime": {
     "start_time": "2024-03-22T08:41:09.653565700Z"
    }
   },
   "outputs": [],
   "source": [
    "# Did we get what we wanted?\n",
    "twenty_train.target_names"
   ]
  },
  {
   "cell_type": "code",
   "execution_count": null,
   "id": "c7eb3fcd",
   "metadata": {
    "ExecuteTime": {
     "start_time": "2024-03-22T08:41:09.664804300Z"
    }
   },
   "outputs": [],
   "source": [
    "# Size\n",
    "len(twenty_train.data)"
   ]
  },
  {
   "cell_type": "code",
   "execution_count": null,
   "id": "c166171b",
   "metadata": {
    "ExecuteTime": {
     "start_time": "2024-03-22T08:41:09.675780400Z"
    }
   },
   "outputs": [],
   "source": [
    "# Lets see what we have :\n",
    "print(\"\\n\".join(twenty_train.data[0].split(\"\\n\")[:2]))"
   ]
  },
  {
   "cell_type": "code",
   "execution_count": null,
   "id": "dc0cd4e3",
   "metadata": {
    "ExecuteTime": {
     "start_time": "2024-03-22T08:41:09.688290300Z"
    }
   },
   "outputs": [],
   "source": [
    "print(twenty_train.target_names[twenty_train.target[0]])"
   ]
  },
  {
   "cell_type": "code",
   "execution_count": null,
   "id": "dfdef5fb",
   "metadata": {
    "ExecuteTime": {
     "end_time": "2024-03-22T08:41:09.902333700Z",
     "start_time": "2024-03-22T08:41:09.702961400Z"
    }
   },
   "outputs": [],
   "source": [
    "print(\"\\n\".join(twenty_train.data[1000].split(\"\\n\")[:2]))"
   ]
  },
  {
   "cell_type": "code",
   "execution_count": null,
   "id": "66bc6c3b",
   "metadata": {
    "ExecuteTime": {
     "start_time": "2024-03-22T08:41:09.714533100Z"
    }
   },
   "outputs": [],
   "source": [
    "print(twenty_train.target_names[twenty_train.target[1000]])"
   ]
  },
  {
   "cell_type": "code",
   "execution_count": null,
   "id": "99c40bfa",
   "metadata": {
    "ExecuteTime": {
     "start_time": "2024-03-22T08:41:09.722609700Z"
    }
   },
   "outputs": [],
   "source": [
    "#scikit-learn provides basic tools to process text using the Bag of Words representation."
   ]
  },
  {
   "cell_type": "code",
   "execution_count": null,
   "id": "29a45f50",
   "metadata": {
    "ExecuteTime": {
     "start_time": "2024-03-22T08:41:09.730519800Z"
    }
   },
   "outputs": [],
   "source": [
    "from sklearn.feature_extraction.text import CountVectorizer"
   ]
  },
  {
   "cell_type": "code",
   "execution_count": null,
   "id": "92f21702",
   "metadata": {
    "ExecuteTime": {
     "start_time": "2024-03-22T08:41:09.738039200Z"
    }
   },
   "outputs": [],
   "source": [
    "# Punctuation and single letter words will be automatically removed."
   ]
  },
  {
   "cell_type": "code",
   "execution_count": null,
   "id": "2cb6f28b",
   "metadata": {
    "ExecuteTime": {
     "start_time": "2024-03-22T08:41:09.746121200Z"
    }
   },
   "outputs": [],
   "source": [
    "count_vect = CountVectorizer(stop_words='english')"
   ]
  },
  {
   "cell_type": "code",
   "execution_count": null,
   "id": "13a14edf",
   "metadata": {
    "ExecuteTime": {
     "start_time": "2024-03-22T08:41:09.752188900Z"
    }
   },
   "outputs": [],
   "source": [
    "X_train_counts = count_vect.fit_transform(twenty_train.data)"
   ]
  },
  {
   "cell_type": "code",
   "execution_count": null,
   "id": "ec0a4c89",
   "metadata": {
    "ExecuteTime": {
     "start_time": "2024-03-22T08:41:09.759396100Z"
    }
   },
   "outputs": [],
   "source": [
    "X_train_counts.shape"
   ]
  },
  {
   "cell_type": "code",
   "execution_count": null,
   "id": "f51d2111",
   "metadata": {
    "ExecuteTime": {
     "start_time": "2024-03-22T08:41:09.766138200Z"
    }
   },
   "outputs": [],
   "source": [
    "#Occurrence count is a good start but there is an issue: \n",
    "#longer documents will have higher average count values than shorter documents, \n",
    "#even though they might talk about the same topics.\n",
    "\n",
    "#To avoid these potential discrepancies it suffices to divide the number \n",
    "#of occurrences of each word in a document by the total number of words in the document: \n",
    "#these new features are called “tf” for Term Frequencies.\n",
    "\n",
    "#Another refinement on top of tf is to downscale weights for words \n",
    "#that occur in many documents in the corpus and are therefore less \n",
    "#informative than those that occur only in a smaller portion of the corpus.\n",
    "\n",
    "#This downscaling is called tf–idf for “Term Frequency times Inverse Document Frequency”."
   ]
  },
  {
   "cell_type": "code",
   "execution_count": null,
   "id": "058d5419",
   "metadata": {
    "ExecuteTime": {
     "start_time": "2024-03-22T08:41:09.771790100Z"
    }
   },
   "outputs": [],
   "source": [
    "from sklearn.feature_extraction.text import TfidfTransformer"
   ]
  },
  {
   "cell_type": "code",
   "execution_count": null,
   "id": "d797bcc3",
   "metadata": {
    "ExecuteTime": {
     "start_time": "2024-03-22T08:41:09.776321500Z"
    }
   },
   "outputs": [],
   "source": [
    "tfidf_transformer = TfidfTransformer()"
   ]
  },
  {
   "cell_type": "code",
   "execution_count": null,
   "id": "6354c2a6",
   "metadata": {
    "ExecuteTime": {
     "start_time": "2024-03-22T08:41:09.780667700Z"
    }
   },
   "outputs": [],
   "source": [
    "X_train_tfidf = tfidf_transformer.fit_transform(X_train_counts)"
   ]
  },
  {
   "cell_type": "code",
   "execution_count": null,
   "id": "760da580",
   "metadata": {
    "ExecuteTime": {
     "start_time": "2024-03-22T08:41:09.785522700Z"
    }
   },
   "outputs": [],
   "source": [
    "# Import the SKlearn model we are using\n",
    "from sklearn.neural_network import MLPClassifier\n",
    "clf = MLPClassifier(solver='lbfgs', alpha=1e-5,\n",
    "                      hidden_layer_sizes=(10, 10,10), random_state=1)\n",
    "clf.fit(X_train_tfidf, twenty_train.target)"
   ]
  },
  {
   "cell_type": "code",
   "execution_count": null,
   "id": "05ce1222",
   "metadata": {
    "ExecuteTime": {
     "start_time": "2024-03-22T08:41:09.788924900Z"
    }
   },
   "outputs": [],
   "source": [
    "docs_new = ['Doctors are bad', 'OpenGL on the GPU is fast']"
   ]
  },
  {
   "cell_type": "code",
   "execution_count": null,
   "id": "730a1af4",
   "metadata": {
    "ExecuteTime": {
     "start_time": "2024-03-22T08:41:09.794822900Z"
    }
   },
   "outputs": [],
   "source": [
    "X_new_counts = count_vect.transform(docs_new)\n",
    "X_new_tfidf = tfidf_transformer.transform(X_new_counts)"
   ]
  },
  {
   "cell_type": "code",
   "execution_count": null,
   "id": "aa8d1f44",
   "metadata": {
    "ExecuteTime": {
     "start_time": "2024-03-22T08:41:09.798231600Z"
    }
   },
   "outputs": [],
   "source": [
    "predicted = clf.predict(X_new_tfidf)"
   ]
  },
  {
   "cell_type": "code",
   "execution_count": null,
   "id": "9d0d6347",
   "metadata": {
    "ExecuteTime": {
     "start_time": "2024-03-22T08:41:09.802929500Z"
    }
   },
   "outputs": [],
   "source": [
    "for doc, category in zip(docs_new, predicted):\n",
    "   print('%r => %s' % (doc, twenty_train.target_names[category]))"
   ]
  },
  {
   "cell_type": "code",
   "execution_count": null,
   "id": "431ccd38",
   "metadata": {
    "ExecuteTime": {
     "start_time": "2024-03-22T08:41:09.806288800Z"
    }
   },
   "outputs": [],
   "source": [
    "twenty_test = fetch_20newsgroups(\n",
    "     subset='test', categories=categories,\n",
    "     shuffle=True, random_state=42)"
   ]
  },
  {
   "cell_type": "code",
   "execution_count": null,
   "id": "3583c98b",
   "metadata": {
    "ExecuteTime": {
     "start_time": "2024-03-22T08:41:09.808452600Z"
    }
   },
   "outputs": [],
   "source": [
    "from sklearn.pipeline import Pipeline\n",
    "text_clf = Pipeline([\n",
    "        ('vect', CountVectorizer()),\n",
    "        ('tfidf', TfidfTransformer()),\n",
    "        ('clf', MLPClassifier(solver='lbfgs', alpha=1e-5, hidden_layer_sizes=(10, 10,10), random_state=1)),\n",
    "         ])"
   ]
  },
  {
   "cell_type": "code",
   "execution_count": null,
   "id": "26c8486d",
   "metadata": {
    "ExecuteTime": {
     "start_time": "2024-03-22T08:41:09.811795600Z"
    }
   },
   "outputs": [],
   "source": [
    "text_clf.fit(twenty_train.data, twenty_train.target)"
   ]
  },
  {
   "cell_type": "code",
   "execution_count": null,
   "id": "163e5025",
   "metadata": {
    "ExecuteTime": {
     "start_time": "2024-03-22T08:41:09.815324700Z"
    }
   },
   "outputs": [],
   "source": [
    "predicted = text_clf.predict(twenty_test.data)"
   ]
  },
  {
   "cell_type": "code",
   "execution_count": null,
   "id": "d06d413c",
   "metadata": {
    "ExecuteTime": {
     "start_time": "2024-03-22T08:41:09.817552100Z"
    }
   },
   "outputs": [],
   "source": [
    "import numpy as np\n",
    "np.mean(predicted == twenty_test.target) "
   ]
  },
  {
   "cell_type": "code",
   "execution_count": null,
   "id": "e67fb520",
   "metadata": {
    "ExecuteTime": {
     "start_time": "2024-03-22T08:41:09.819715100Z"
    }
   },
   "outputs": [],
   "source": []
  }
 ],
 "metadata": {
  "kernelspec": {
   "display_name": "Python 3",
   "language": "python",
   "name": "python3"
  },
  "language_info": {
   "codemirror_mode": {
    "name": "ipython",
    "version": 3
   },
   "file_extension": ".py",
   "mimetype": "text/x-python",
   "name": "python",
   "nbconvert_exporter": "python",
   "pygments_lexer": "ipython3",
   "version": "3.6.6"
  }
 },
 "nbformat": 4,
 "nbformat_minor": 5
}
